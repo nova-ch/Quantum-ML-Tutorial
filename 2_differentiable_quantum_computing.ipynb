{
  "nbformat": 4,
  "nbformat_minor": 0,
  "metadata": {
    "colab": {
      "name": "2-differentiable-quantum-computing.ipynb",
      "provenance": [],
      "collapsed_sections": []
    },
    "kernelspec": {
      "display_name": "Python 3",
      "language": "python",
      "name": "python3"
    },
    "language_info": {
      "codemirror_mode": {
        "name": "ipython",
        "version": 3
      },
      "file_extension": ".py",
      "mimetype": "text/x-python",
      "name": "python",
      "nbconvert_exporter": "python",
      "pygments_lexer": "ipython3",
      "version": "3.7.7"
    }
  },
  "cells": [
    {
      "cell_type": "code",
      "metadata": {
        "colab": {
          "base_uri": "https://localhost:8080/"
        },
        "id": "nTR6KaDYI86X",
        "outputId": "26e1a60e-9132-4b47-fc41-e3f4ca3e2946"
      },
      "source": [
        "#%%capture\n",
        "\n",
        "# Comment this out if you don't want to install pennylane from this notebook\n",
        "!pip install pennylane\n",
        "\n",
        "# Comment this out if you don't want to install matplotlib from this notebook\n",
        "!pip install matplotlib"
      ],
      "execution_count": 1,
      "outputs": [
        {
          "output_type": "stream",
          "text": [
            "Collecting pennylane\n",
            "\u001b[?25l  Downloading https://files.pythonhosted.org/packages/e4/f9/d3594cf0335d0fb3ec72947bbc6db204f1332588463bb5b9b43083ea35c9/PennyLane-0.14.1.tar.gz (404kB)\n",
            "\u001b[K     |████████████████████████████████| 409kB 5.7MB/s \n",
            "\u001b[?25hRequirement already satisfied: numpy in /usr/local/lib/python3.6/dist-packages (from pennylane) (1.19.5)\n",
            "Requirement already satisfied: scipy in /usr/local/lib/python3.6/dist-packages (from pennylane) (1.4.1)\n",
            "Requirement already satisfied: networkx in /usr/local/lib/python3.6/dist-packages (from pennylane) (2.5)\n",
            "Requirement already satisfied: autograd in /usr/local/lib/python3.6/dist-packages (from pennylane) (1.3)\n",
            "Requirement already satisfied: toml in /usr/local/lib/python3.6/dist-packages (from pennylane) (0.10.2)\n",
            "Requirement already satisfied: appdirs in /usr/local/lib/python3.6/dist-packages (from pennylane) (1.4.4)\n",
            "Collecting semantic_version==2.6\n",
            "  Downloading https://files.pythonhosted.org/packages/28/be/3a7241d731ba89063780279a5433f5971c1cf41735b64a9f874b7c3ff995/semantic_version-2.6.0-py3-none-any.whl\n",
            "Requirement already satisfied: decorator>=4.3.0 in /usr/local/lib/python3.6/dist-packages (from networkx->pennylane) (4.4.2)\n",
            "Requirement already satisfied: future>=0.15.2 in /usr/local/lib/python3.6/dist-packages (from autograd->pennylane) (0.16.0)\n",
            "Building wheels for collected packages: pennylane\n",
            "  Building wheel for pennylane (setup.py) ... \u001b[?25l\u001b[?25hdone\n",
            "  Created wheel for pennylane: filename=PennyLane-0.14.1-cp36-none-any.whl size=481981 sha256=056b07ff3de324d5a34a8b8f2f8a47a23673ded87a5b62e42c9090dcebfc6172\n",
            "  Stored in directory: /root/.cache/pip/wheels/6e/a9/c9/04941d6dd58b3c111cbd1389bf63ba1b23362c137359af4626\n",
            "Successfully built pennylane\n",
            "Installing collected packages: semantic-version, pennylane\n",
            "Successfully installed pennylane-0.14.1 semantic-version-2.6.0\n",
            "Requirement already satisfied: matplotlib in /usr/local/lib/python3.6/dist-packages (3.2.2)\n",
            "Requirement already satisfied: python-dateutil>=2.1 in /usr/local/lib/python3.6/dist-packages (from matplotlib) (2.8.1)\n",
            "Requirement already satisfied: cycler>=0.10 in /usr/local/lib/python3.6/dist-packages (from matplotlib) (0.10.0)\n",
            "Requirement already satisfied: pyparsing!=2.0.4,!=2.1.2,!=2.1.6,>=2.0.1 in /usr/local/lib/python3.6/dist-packages (from matplotlib) (2.4.7)\n",
            "Requirement already satisfied: kiwisolver>=1.0.1 in /usr/local/lib/python3.6/dist-packages (from matplotlib) (1.3.1)\n",
            "Requirement already satisfied: numpy>=1.11 in /usr/local/lib/python3.6/dist-packages (from matplotlib) (1.19.5)\n",
            "Requirement already satisfied: six>=1.5 in /usr/local/lib/python3.6/dist-packages (from python-dateutil>=2.1->matplotlib) (1.15.0)\n"
          ],
          "name": "stdout"
        }
      ]
    },
    {
      "cell_type": "markdown",
      "metadata": {
        "id": "ViJy_slwI86e"
      },
      "source": [
        "# Differentiable quantum computing with PennyLane\n",
        "\n",
        "In this tutorial we will:\n",
        "\n",
        "* learn step-by-step how quantum computations are implemented in PennyLane,\n",
        "* understand parameter-dependent quantum computations (\"variational circuits\"), \n",
        "* build our first quantum machine learning model, and\n",
        "* compute its gradient.\n",
        "\n",
        "We need the following imports:"
      ]
    },
    {
      "cell_type": "code",
      "metadata": {
        "id": "gym_3cbziWfK"
      },
      "source": [
        "import pennylane as qml\n",
        "from pennylane import numpy as np"
      ],
      "execution_count": 2,
      "outputs": []
    },
    {
      "cell_type": "markdown",
      "metadata": {
        "id": "j0takToZI86f"
      },
      "source": [
        "## 1. Quantum nodes"
      ]
    },
    {
      "cell_type": "markdown",
      "metadata": {
        "id": "3u-3eEPchh3N"
      },
      "source": [
        "In PennyLane, a *quantum node* is a computational unit that involves the construction, evaluation, pre- and postprocessing of quantum computations.\n",
        "\n",
        "A quantum node consists of a *quantum function* that defines a circuit, as well as a *device* on which it is run. \n",
        "\n",
        "There is a growing [device ecosystem](https://pennylane.ai/plugins.html) which allows you to change only one line of code to dispatch your quantum computation to local simulators, remote simulators and remote hardware from different vendors.\n",
        "\n",
        "Here we will use the built-in `default.qubit` device."
      ]
    },
    {
      "cell_type": "code",
      "metadata": {
        "id": "WfIzfl6hI86f"
      },
      "source": [
        "dev = qml.device('default.qubit', wires=2)"
      ],
      "execution_count": 3,
      "outputs": []
    },
    {
      "cell_type": "markdown",
      "metadata": {
        "id": "ry-OZ77MFE8O"
      },
      "source": [
        "To combine the device with a quantum function to a quantum node we can use the `qml.qnode` decorator. The function can then be evaluated as if it was any other python function. Internally, it will construct a circuit and run it on the device."
      ]
    },
    {
      "cell_type": "code",
      "metadata": {
        "colab": {
          "base_uri": "https://localhost:8080/"
        },
        "id": "pJffBOYjFE8O",
        "outputId": "b490071a-43d6-468f-a129-06c730ddebc0"
      },
      "source": [
        "@qml.qnode(dev)\n",
        "def circuit():\n",
        "    qml.Hadamard(wires=0)\n",
        "    return qml.probs(wires=[0, 1])\n",
        "\n",
        "circuit()"
      ],
      "execution_count": 4,
      "outputs": [
        {
          "output_type": "execute_result",
          "data": {
            "text/plain": [
              "tensor([0.5, 0. , 0.5, 0. ], requires_grad=True)"
            ]
          },
          "metadata": {
            "tags": []
          },
          "execution_count": 4
        }
      ]
    },
    {
      "cell_type": "markdown",
      "metadata": {
        "id": "zFB75dmQFE8P"
      },
      "source": [
        "## 2. Building quantum circuits"
      ]
    },
    {
      "cell_type": "markdown",
      "metadata": {
        "id": "B7QxsiAdI86g"
      },
      "source": [
        "### The initial state\n",
        "\n",
        "<br />\n",
        "<img src=\"figures/1.png\" width=\"500\" height=\"100\">\n",
        "<br />\n",
        "\n",
        "The initial state has 100% probability to be measured in the \"0..0\" configuration. Let's see how we can verify this with PennyLane."
      ]
    },
    {
      "cell_type": "code",
      "metadata": {
        "colab": {
          "base_uri": "https://localhost:8080/"
        },
        "id": "0uWBZqMsI86g",
        "outputId": "695204d3-10cc-4046-b622-a2fa0d85261a"
      },
      "source": [
        "@qml.qnode(dev)\n",
        "def circuit():\n",
        "    return qml.probs(wires=[0, 1])\n",
        "\n",
        "circuit()"
      ],
      "execution_count": 5,
      "outputs": [
        {
          "output_type": "execute_result",
          "data": {
            "text/plain": [
              "tensor([1., 0., 0., 0.], requires_grad=True)"
            ]
          },
          "metadata": {
            "tags": []
          },
          "execution_count": 5
        }
      ]
    },
    {
      "cell_type": "markdown",
      "metadata": {
        "id": "4vYHmef8I86h"
      },
      "source": [
        "The internal state vector that we use to mathematically keep track of probabilities is complex-valued. Since `default.qubit` is a simulator we can have a look at the state, for example by checking the device's `state` attribute."
      ]
    },
    {
      "cell_type": "code",
      "metadata": {
        "colab": {
          "base_uri": "https://localhost:8080/"
        },
        "id": "a3sx1keQI86h",
        "outputId": "62f1292c-b5ad-4454-85f3-fc6bf1332c29"
      },
      "source": [
        "dev.state"
      ],
      "execution_count": 6,
      "outputs": [
        {
          "output_type": "execute_result",
          "data": {
            "text/plain": [
              "tensor([1.+0.j, 0.+0.j, 0.+0.j, 0.+0.j], requires_grad=True)"
            ]
          },
          "metadata": {
            "tags": []
          },
          "execution_count": 6
        }
      ]
    },
    {
      "cell_type": "markdown",
      "metadata": {
        "id": "8T72-1F-I86i"
      },
      "source": [
        "### Unitary evolutions\n",
        "\n",
        "<br />\n",
        "<img src=\"figures/2.png\" width=\"500\">\n",
        "<br />\n",
        "\n",
        "Quantum circuits are represented by unitary matrices. We can evolve the initial state by an arbitrary unitrary matrix as follows:"
      ]
    },
    {
      "cell_type": "code",
      "metadata": {
        "colab": {
          "base_uri": "https://localhost:8080/"
        },
        "id": "pR2xQvESI86i",
        "outputId": "23196cf8-bbac-4a24-cb2d-7a89389058d3"
      },
      "source": [
        "s = 1/np.sqrt(2)\n",
        "U = np.array([[0., -s, 0.,  s],\n",
        "              [ s, 0., -s, 0.],\n",
        "              [ s, 0.,  s, 0.],\n",
        "              [0., -s, 0., -s]])\n",
        "\n",
        "@qml.qnode(dev)\n",
        "def circuit():\n",
        "    qml.QubitUnitary(U, wires=[0, 1])\n",
        "    return qml.probs(wires=[0, 1])\n",
        "\n",
        "circuit()"
      ],
      "execution_count": 7,
      "outputs": [
        {
          "output_type": "execute_result",
          "data": {
            "text/plain": [
              "tensor([0. , 0.5, 0.5, 0. ], requires_grad=True)"
            ]
          },
          "metadata": {
            "tags": []
          },
          "execution_count": 7
        }
      ]
    },
    {
      "cell_type": "markdown",
      "metadata": {
        "id": "y1Lz95Lvi4nh"
      },
      "source": [
        "The internal quantum state changed."
      ]
    },
    {
      "cell_type": "code",
      "metadata": {
        "colab": {
          "base_uri": "https://localhost:8080/"
        },
        "id": "WGRCAysbI86i",
        "outputId": "adf58d18-2344-4a0e-a9ee-868fb9a45bca"
      },
      "source": [
        "dev.state"
      ],
      "execution_count": 8,
      "outputs": [
        {
          "output_type": "execute_result",
          "data": {
            "text/plain": [
              "tensor([0.        +0.j, 0.70710678+0.j, 0.70710678+0.j, 0.        +0.j], requires_grad=True)"
            ]
          },
          "metadata": {
            "tags": []
          },
          "execution_count": 8
        }
      ]
    },
    {
      "cell_type": "markdown",
      "metadata": {
        "id": "j5D8HN8nI86j"
      },
      "source": [
        "### Measurements sample outcomes from the distribution\n",
        "\n",
        "<br />\n",
        "<img src=\"figures/3.png\" width=\"500\">\n",
        "<br />\n",
        "\n",
        "The most common measurement takes samples $-1, 1$ from the \"Pauli-Z\" observable. The samples indicate if the qubit was measured in state $| 0 \\rangle$ or $| 1 \\rangle$."
      ]
    },
    {
      "cell_type": "code",
      "metadata": {
        "colab": {
          "base_uri": "https://localhost:8080/"
        },
        "id": "BFFaTmh6I86j",
        "outputId": "2734db3d-ccff-4876-b9d5-2dc54df1747f"
      },
      "source": [
        "@qml.qnode(dev)\n",
        "def circuit():\n",
        "    qml.QubitUnitary(U, wires=[0, 1])\n",
        "    return qml.sample(qml.PauliZ(wires=0)), qml.sample(qml.PauliZ(wires=1))\n",
        "\n",
        "circuit()"
      ],
      "execution_count": 9,
      "outputs": [
        {
          "output_type": "execute_result",
          "data": {
            "text/plain": [
              "tensor([[-1,  1,  1, ...,  1, -1,  1],\n",
              "        [ 1, -1, -1, ..., -1,  1, -1]], requires_grad=True)"
            ]
          },
          "metadata": {
            "tags": []
          },
          "execution_count": 9
        }
      ]
    },
    {
      "cell_type": "markdown",
      "metadata": {
        "id": "SKNa1k2eixFC"
      },
      "source": [
        "The quantum state should be still the same as above."
      ]
    },
    {
      "cell_type": "code",
      "metadata": {
        "colab": {
          "base_uri": "https://localhost:8080/"
        },
        "id": "kOpi8-62I86j",
        "outputId": "1b49c1a9-0cb0-4688-bf8c-e40aa755baf1"
      },
      "source": [
        "dev.state"
      ],
      "execution_count": 10,
      "outputs": [
        {
          "output_type": "execute_result",
          "data": {
            "text/plain": [
              "tensor([0.        +0.j, 0.70710678+0.j, 0.70710678+0.j, 0.        +0.j], requires_grad=True)"
            ]
          },
          "metadata": {
            "tags": []
          },
          "execution_count": 10
        }
      ]
    },
    {
      "cell_type": "markdown",
      "metadata": {
        "id": "BPSoH3ddI86k"
      },
      "source": [
        "### Computing expectation values \n",
        "\n",
        "<br />\n",
        "<img src=\"figures/4.png\" width=\"500\">\n",
        "<br />\n",
        "\n",
        "When we want outputs of computations to be deterministic, we often interpret the expected measurement outcome as the result. This value is estimated by taking lots of samples and averaging over them."
      ]
    },
    {
      "cell_type": "code",
      "metadata": {
        "colab": {
          "base_uri": "https://localhost:8080/"
        },
        "id": "BTKPBpR3I86k",
        "outputId": "d370ddef-cf48-4743-bb3c-c548aab81c23"
      },
      "source": [
        "@qml.qnode(dev)\n",
        "def circuit():\n",
        "    qml.QubitUnitary(U, wires=[0, 1])\n",
        "    return qml.expval(qml.PauliZ(wires=0)), qml.expval(qml.PauliZ(wires=1))\n",
        "\n",
        "circuit()"
      ],
      "execution_count": 11,
      "outputs": [
        {
          "output_type": "execute_result",
          "data": {
            "text/plain": [
              "tensor([0., 0.], requires_grad=True)"
            ]
          },
          "metadata": {
            "tags": []
          },
          "execution_count": 11
        }
      ]
    },
    {
      "cell_type": "markdown",
      "metadata": {
        "id": "TWenlG1AjJhu"
      },
      "source": [
        "Again, the quantum state should be the same as above."
      ]
    },
    {
      "cell_type": "code",
      "metadata": {
        "colab": {
          "base_uri": "https://localhost:8080/"
        },
        "id": "aSJl64R-I86k",
        "outputId": "d3850221-f3e8-49c8-b660-5ce0452192c2"
      },
      "source": [
        "dev.state"
      ],
      "execution_count": 12,
      "outputs": [
        {
          "output_type": "execute_result",
          "data": {
            "text/plain": [
              "tensor([0.        +0.j, 0.70710678+0.j, 0.70710678+0.j, 0.        +0.j], requires_grad=True)"
            ]
          },
          "metadata": {
            "tags": []
          },
          "execution_count": 12
        }
      ]
    },
    {
      "cell_type": "markdown",
      "metadata": {
        "id": "KNiKBEjrI86l"
      },
      "source": [
        "### Quantum circuits are decomposed into gates\n",
        "\n",
        "<br />\n",
        "<img src=\"figures/5.png\" width=\"500\">\n",
        "<br />\n",
        "\n",
        "Quantum circuits rarely consist of one large unitary (which quickly becomes intractably large as the number of qubits grow). Instead, they are composed of *quantum gates*."
      ]
    },
    {
      "cell_type": "code",
      "metadata": {
        "colab": {
          "base_uri": "https://localhost:8080/"
        },
        "id": "Eoie7lnlI86l",
        "outputId": "060282fe-3bf1-4d13-a878-406952fefc39"
      },
      "source": [
        "@qml.qnode(dev)\n",
        "def circuit():\n",
        "    qml.PauliX(wires=0)\n",
        "    qml.CNOT(wires=[0,1])\n",
        "    qml.Hadamard(wires=0)\n",
        "    qml.PauliZ(wires=1)\n",
        "    return qml.expval(qml.PauliZ(wires=0)), qml.expval(qml.PauliZ(wires=1))\n",
        "\n",
        "circuit()"
      ],
      "execution_count": 13,
      "outputs": [
        {
          "output_type": "execute_result",
          "data": {
            "text/plain": [
              "tensor([ 0., -1.], requires_grad=True)"
            ]
          },
          "metadata": {
            "tags": []
          },
          "execution_count": 13
        }
      ]
    },
    {
      "cell_type": "markdown",
      "metadata": {
        "id": "IxU2qPYcI86l"
      },
      "source": [
        "### Some gates depend on \"control\" parameters\n",
        "\n",
        "<br />\n",
        "<img src=\"figures/6.png\" width=\"500\">\n",
        "<br />\n",
        "\n",
        "To train circuits, there is a special subset of gates which is of particular interest: the Pauli rotation gates. These \"rotate\" a special representation of the quantum state around a specific axis. The gates depend on a scalar parameter which is the angle of the rotation. "
      ]
    },
    {
      "cell_type": "code",
      "metadata": {
        "id": "YwKk_sWmI86m",
        "colab": {
          "base_uri": "https://localhost:8080/"
        },
        "outputId": "28c1a020-81d1-4992-801e-77c5c88b2377"
      },
      "source": [
        "@qml.qnode(dev)\n",
        "def circuit(w1, w2):\n",
        "    qml.RX(w1, wires=0)\n",
        "    qml.CNOT(wires=[0,1])\n",
        "    qml.RY(w2, wires=1)\n",
        "    return qml.expval(qml.PauliZ(wires=0)), qml.expval(qml.PauliZ(wires=1))\n",
        "\n",
        "circuit(1.2, 1.3)"
      ],
      "execution_count": 14,
      "outputs": [
        {
          "output_type": "execute_result",
          "data": {
            "text/plain": [
              "tensor([0.36235775, 0.09693027], requires_grad=True)"
            ]
          },
          "metadata": {
            "tags": []
          },
          "execution_count": 14
        }
      ]
    },
    {
      "cell_type": "markdown",
      "metadata": {
        "id": "Oi_0wM9rI86m"
      },
      "source": [
        "The names `w1`, `w2` are already suggestive that these can be used like the trainable parameters of a classical machine learning model. But we could also call the control parameters `x1`, `x2` and encode data features into quantum states. "
      ]
    },
    {
      "cell_type": "markdown",
      "metadata": {
        "id": "1fKFXs7OI86m"
      },
      "source": [
        "## 3. A full quantum machine learning model and its gradient"
      ]
    },
    {
      "cell_type": "markdown",
      "metadata": {
        "id": "QBEgX2RNI86n"
      },
      "source": [
        "Finally, we can use pre-coded routines or [templates](https://pennylane.readthedocs.io/en/stable/introduction/templates.html) to conveniently build full quantum machine learning model that include a data encoding part, and a trainable part.\n",
        "\n",
        "<br />\n",
        "<img src=\"figures/7.png\" width=\"500\">\n",
        "<br />\n",
        "\n",
        "Here, we will use the `AngleEmbedding` template to load the data, and the `BasicEntanglingLayers` as the trainable part of the circuit."
      ]
    },
    {
      "cell_type": "code",
      "metadata": {
        "colab": {
          "base_uri": "https://localhost:8080/"
        },
        "id": "qH4f8vYFI86n",
        "outputId": "ebdc4786-dfc0-43c6-9792-34040a73a3a5"
      },
      "source": [
        "@qml.qnode(dev)\n",
        "def quantum_model(x, w):\n",
        "    qml.templates.AngleEmbedding(x, wires=[0, 1])\n",
        "    qml.templates.BasicEntanglerLayers(w, wires=[0, 1])\n",
        "    return qml.expval(qml.PauliZ(wires=0))\n",
        "\n",
        "\n",
        "x = np.array([0.1, 0.2], requires_grad=False)\n",
        "w = np.array([[-2.1, 1.2], [-1.4, -3.9], [0.5, 0.2]])\n",
        "\n",
        "quantum_model(x, w)"
      ],
      "execution_count": 15,
      "outputs": [
        {
          "output_type": "execute_result",
          "data": {
            "text/plain": [
              "tensor(0.012023, requires_grad=True)"
            ]
          },
          "metadata": {
            "tags": []
          },
          "execution_count": 15
        }
      ]
    },
    {
      "cell_type": "markdown",
      "metadata": {
        "id": "I-TOEGNdsUNx"
      },
      "source": [
        "We can draw the circuit."
      ]
    },
    {
      "cell_type": "code",
      "metadata": {
        "colab": {
          "base_uri": "https://localhost:8080/"
        },
        "id": "Ke03t-8ysP3V",
        "outputId": "206af48f-2377-4e30-fc9d-2debca938e3b"
      },
      "source": [
        "print(quantum_model.draw())"
      ],
      "execution_count": 16,
      "outputs": [
        {
          "output_type": "stream",
          "text": [
            " 0: ──RX(0.1)──RX(-2.1)──╭C──RX(-1.4)──╭C──RX(0.5)──╭C──┤ ⟨Z⟩ \n",
            " 1: ──RX(0.2)──RX(1.2)───╰X──RX(-3.9)──╰X──RX(0.2)──╰X──┤     \n",
            "\n"
          ],
          "name": "stdout"
        }
      ]
    },
    {
      "cell_type": "markdown",
      "metadata": {
        "id": "BSyTK18DI86n"
      },
      "source": [
        "The best thing is that by using PennyLane, we can easily compute its gradient!"
      ]
    },
    {
      "cell_type": "code",
      "metadata": {
        "id": "TH2NCZFkI86n",
        "colab": {
          "base_uri": "https://localhost:8080/"
        },
        "outputId": "93dca341-21bd-4c98-e32c-bf7a14733abf"
      },
      "source": [
        "gradient_fn = qml.grad(quantum_model)\n",
        "\n",
        "gradient_fn(x, w)"
      ],
      "execution_count": 17,
      "outputs": [
        {
          "output_type": "execute_result",
          "data": {
            "text/plain": [
              "(array([[ 1.69541373e-01, -2.77555756e-17],\n",
              "        [ 6.97079563e-02,  2.94902991e-17],\n",
              "        [ 1.69541373e-01,  1.90819582e-17]]),)"
            ]
          },
          "metadata": {
            "tags": []
          },
          "execution_count": 17
        }
      ]
    },
    {
      "cell_type": "markdown",
      "metadata": {
        "id": "aG3rOjcOI86o"
      },
      "source": [
        "This allows us to slot the quantum circuit into the machine learning example from the previous notebook."
      ]
    },
    {
      "cell_type": "markdown",
      "metadata": {
        "id": "EzByfrW4I86o"
      },
      "source": [
        "#  TASKS \n",
        "\n",
        "1. Copy and paste the code from the previous notebook to here and replace the classical model by \n",
        "   the `quantum_model` function. This will allow you to train the model!"
      ]
    },
    {
      "cell_type": "markdown",
      "metadata": {
        "id": "QfF5QbRDFE8a"
      },
      "source": [
        "2. Add a bias term to the quantum model.\n",
        "\n",
        "A potential solution of 1 & 2 together:"
      ]
    },
    {
      "cell_type": "code",
      "metadata": {
        "colab": {
          "base_uri": "https://localhost:8080/"
        },
        "id": "DmAyJg9BFE8a",
        "outputId": "72877e80-5e96-4543-c16a-78b4674cbb8b"
      },
      "source": [
        "n_samples = 100\n",
        "X0 = np.array([[np.random.normal(loc=-1, scale=1), \n",
        "                np.random.normal(loc=1, scale=1)] for i in range(n_samples//2)]) \n",
        "X1 = np.array([[np.random.normal(loc=1, scale=1), \n",
        "                np.random.normal(loc=-1, scale=1)] for i in range(n_samples//2)]) \n",
        "\n",
        "X = np.concatenate([X0, X1], axis=0)\n",
        "Y = np.concatenate([-np.ones(50), np.ones(50)], axis=0)\n",
        "data = list(zip(X, Y))\n",
        "\n",
        "def model_with_bias(x, w, b):\n",
        "    return quantum_model(x, w) + b\n",
        "\n",
        "def loss(a, b):\n",
        "    return (a - b)**2\n",
        "\n",
        "def average_loss(w, b, data):\n",
        "    c = 0\n",
        "    for x, y in data:\n",
        "        prediction = model_with_bias(x, w, b)\n",
        "        c += loss(prediction, y)\n",
        "    return c/len(data)\n",
        "\n",
        "gradient_fn_w = qml.grad(average_loss, argnum=0)\n",
        "gradient_fn_b = qml.grad(average_loss, argnum=1)\n",
        "\n",
        "w_init = np.random.random(size=(3, 2))\n",
        "w = np.array(w_init)\n",
        "b = np.array(0.0) # start with zero bias\n",
        "\n",
        "for i in range(15):\n",
        "    w_new = w - 0.05*gradient_fn_w(w, b, data)\n",
        "    b_new = b - 0.05*gradient_fn_b(w, b, data)\n",
        "    print(average_loss(w_new, b_new, data))\n",
        "    w = w_new\n",
        "    b = b_new"
      ],
      "execution_count": 18,
      "outputs": [
        {
          "output_type": "stream",
          "text": [
            "2.1950046098627416\n",
            "2.1487563225102497\n",
            "2.097419031792551\n",
            "2.0410097679675143\n",
            "1.9797841866965666\n",
            "1.9142635093055458\n",
            "1.8452402100888687\n",
            "1.7737548977758981\n",
            "1.7010409708940477\n",
            "1.628440018808254\n",
            "1.5572980635173963\n",
            "1.4888582614495711\n",
            "1.4241674230815307\n",
            "1.3640107426141581\n",
            "1.3088824011456581\n"
          ],
          "name": "stdout"
        }
      ]
    },
    {
      "cell_type": "markdown",
      "metadata": {
        "id": "ztEjCs4-FE8a"
      },
      "source": [
        "3. Replace the hand-coded optimisation step by a native [PennyLane optimiser](https://pennylane.readthedocs.io/en/stable/introduction/optimizers.html)."
      ]
    },
    {
      "cell_type": "code",
      "metadata": {
        "colab": {
          "base_uri": "https://localhost:8080/"
        },
        "id": "Zh9KrLLXFE8c",
        "outputId": "f59ff5d7-3ee8-4cf1-c72f-a6f9bb065b6a"
      },
      "source": [
        "opt = qml.GradientDescentOptimizer(0.05)\n",
        "for i in range(15):\n",
        "    \n",
        "    ([w, b], cst) = opt.step_and_cost(lambda w_, b_: average_loss(w_, b_, data), w, b)\n",
        "    print(cst)"
      ],
      "execution_count": 19,
      "outputs": [
        {
          "output_type": "stream",
          "text": [
            "1.3088824011456581\n",
            "1.2589916167738568\n",
            "1.214296949669864\n",
            "1.174557992058918\n",
            "1.1393932787933791\n",
            "1.108335446179102\n",
            "1.0808779682677996\n",
            "1.0565110144694834\n",
            "1.0347464075777997\n",
            "1.0151331243799258\n",
            "0.997265403564296\n",
            "0.98078556984829\n",
            "0.9653834084721672\n",
            "0.9507935255068983\n",
            "0.9367917270007219\n"
          ],
          "name": "stdout"
        }
      ]
    },
    {
      "cell_type": "markdown",
      "metadata": {
        "id": "ciXC0Hn_FE8c"
      },
      "source": [
        "4. Rewrite the entire example in PyTorch. \n",
        "\n",
        "   Tipp: You must set the qnode to the correct interface via `@qml.qnode(dev, interface='tf')`."
      ]
    },
    {
      "cell_type": "code",
      "metadata": {
        "id": "3tXR6ygNI86o",
        "colab": {
          "base_uri": "https://localhost:8080/"
        },
        "outputId": "06e13010-02f0-48ad-f38e-66c3f8a3f345"
      },
      "source": [
        "import torch\n",
        "\n",
        "data = [[torch.tensor(x), torch.tensor(y)] for x, y in data]\n",
        "\n",
        "\n",
        "@qml.qnode(dev, interface='torch')\n",
        "def quantum_model(x, w):\n",
        "    qml.templates.AngleEmbedding(x, wires=[0, 1])\n",
        "    qml.templates.BasicEntanglerLayers(w, wires=[0, 1])\n",
        "    return qml.expval(qml.PauliZ(wires=0))\n",
        "\n",
        "def average_loss(w, data):\n",
        "    c = 0\n",
        "    for x, y in data:\n",
        "        prediction = quantum_model(x, w)\n",
        "        c += loss(prediction, y)\n",
        "    return c/len(data)\n",
        "\n",
        "w_init = np.random.random(size=(3, 2))\n",
        "\n",
        "w = torch.tensor(w_init, requires_grad=True)\n",
        "\n",
        "opt = torch.optim.Adam([w], lr = 0.1)\n",
        "\n",
        "# One way of optimising is to use closures\n",
        "def closure():\n",
        "    opt.zero_grad()\n",
        "    loss = average_loss(w, data)\n",
        "    loss.backward()\n",
        "    return loss\n",
        "\n",
        "for i in range(15):\n",
        "    opt.step(closure)\n",
        "    \n",
        "    print(average_loss(w, data))\n",
        "    "
      ],
      "execution_count": 20,
      "outputs": [
        {
          "output_type": "stream",
          "text": [
            "tensor(1.8534, dtype=torch.float64, grad_fn=<DivBackward0>)\n",
            "tensor(1.6430, dtype=torch.float64, grad_fn=<DivBackward0>)\n",
            "tensor(1.4323, dtype=torch.float64, grad_fn=<DivBackward0>)\n",
            "tensor(1.2368, dtype=torch.float64, grad_fn=<DivBackward0>)\n",
            "tensor(1.0707, dtype=torch.float64, grad_fn=<DivBackward0>)\n",
            "tensor(0.9447, dtype=torch.float64, grad_fn=<DivBackward0>)\n",
            "tensor(0.8627, dtype=torch.float64, grad_fn=<DivBackward0>)\n",
            "tensor(0.8192, dtype=torch.float64, grad_fn=<DivBackward0>)\n",
            "tensor(0.8009, dtype=torch.float64, grad_fn=<DivBackward0>)\n",
            "tensor(0.7926, dtype=torch.float64, grad_fn=<DivBackward0>)\n",
            "tensor(0.7835, dtype=torch.float64, grad_fn=<DivBackward0>)\n",
            "tensor(0.7692, dtype=torch.float64, grad_fn=<DivBackward0>)\n",
            "tensor(0.7499, dtype=torch.float64, grad_fn=<DivBackward0>)\n",
            "tensor(0.7283, dtype=torch.float64, grad_fn=<DivBackward0>)\n",
            "tensor(0.7075, dtype=torch.float64, grad_fn=<DivBackward0>)\n"
          ],
          "name": "stdout"
        }
      ]
    },
    {
      "cell_type": "code",
      "metadata": {
        "id": "HlaloztFFE8d"
      },
      "source": [
        ""
      ],
      "execution_count": 20,
      "outputs": []
    },
    {
      "cell_type": "code",
      "metadata": {
        "id": "dALSLmx6FE8e"
      },
      "source": [
        ""
      ],
      "execution_count": 20,
      "outputs": []
    },
    {
      "cell_type": "code",
      "metadata": {
        "id": "8lUmajQqFE8e"
      },
      "source": [
        ""
      ],
      "execution_count": 20,
      "outputs": []
    }
  ]
}